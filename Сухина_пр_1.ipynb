{
  "cells": [
    {
      "cell_type": "markdown",
      "source": [
        "Завдання 1.\n",
        "27. Створіть одновимірний масив (вектор) зі значеннями 2\n",
        "𝑛 для кожного натурального\n",
        "числа n, починаючи з 0, та виведіть його значення."
      ],
      "metadata": {
        "id": "9qfWZKElD_dw"
      }
    },
    {
      "cell_type": "code",
      "source": [
        "import numpy as np\n",
        "\n",
        "# Визначаємо розмір масиву\n",
        "size = 10\n",
        "\n",
        "# Створюємо масив зі значеннями 2^n\n",
        "powers_of_two = [2 ** n for n in range(size)]\n",
        "\n",
        "# Виводимо значення масиву на екран\n",
        "print(\"Масив значень 2^n:\")\n",
        "for value in powers_of_two:\n",
        "    print(value)"
      ],
      "outputs": [
        {
          "output_type": "stream",
          "name": "stdout",
          "text": "Масив значень 2^n:\n1\n2\n4\n8\n16\n32\n64\n128\n256\n512\n"
        }
      ],
      "execution_count": 2,
      "metadata": {
        "colab": {
          "base_uri": "https://localhost:8080/"
        },
        "id": "q083j_aJsPMJ",
        "outputId": "6ad84d44-8c88-4752-de8f-bd2f26d21f48"
      }
    },
    {
      "cell_type": "markdown",
      "source": [
        "\n",
        "Завдання 2.\n",
        "27. Створіть двовимірний масив (матрицю) розміром 3x3, заповніть його значеннями простих чисел."
      ],
      "metadata": {
        "id": "rs3_G_vPIHfy"
      }
    },
    {
      "cell_type": "code",
      "source": [
        "import numpy as np\n",
        "\n",
        "# Функція для перевірки, чи є число простим\n",
        "def is_prime(num):\n",
        "    if num < 2:\n",
        "        return False\n",
        "    for i in range(2, int(np.sqrt(num)) + 1):\n",
        "        if num % i == 0:\n",
        "            return False\n",
        "    return True\n",
        "\n",
        "# Генеруємо список простих чисел\n",
        "def generate_primes(count):\n",
        "    primes = []\n",
        "    num = 2\n",
        "    while len(primes) < count:\n",
        "        if is_prime(num):\n",
        "            primes.append(num)\n",
        "        num += 1\n",
        "    return primes\n",
        "\n",
        "# Визначаємо розмір матриці\n",
        "rows, cols = 3, 3\n",
        "\n",
        "# Генеруємо 9 простих чисел\n",
        "prime_numbers = generate_primes(rows * cols)\n",
        "\n",
        "# Створюємо матрицю 3x3 і заповнюємо її простими числами\n",
        "matrix = np.array(prime_numbers).reshape(rows, cols)\n",
        "\n",
        "# Виводимо матрицю на екран\n",
        "print(\"Матриця 3x3, заповнена простими числами:\")\n",
        "print(matrix)\n"
      ],
      "outputs": [
        {
          "output_type": "stream",
          "name": "stdout",
          "text": "Матриця 3x3, заповнена простими числами:\n[[ 2  3  5]\n [ 7 11 13]\n [17 19 23]]\n"
        }
      ],
      "execution_count": 3,
      "metadata": {
        "colab": {
          "base_uri": "https://localhost:8080/"
        },
        "id": "ryXXEhHiIoRM",
        "outputId": "8aee1cf3-c9c5-4d84-aec2-98a8a8b5f909"
      }
    },
    {
      "cell_type": "markdown",
      "source": [
        "Завдання 3.\n",
        "27. Створіть масив розміром 5x5, заповніть його випадковими цілими числами від -50 до 50."
      ],
      "metadata": {
        "id": "0cL34XWeJWKN"
      }
    },
    {
      "cell_type": "code",
      "source": [
        "import numpy as np\n",
        "\n",
        "# Визначаємо розмір масиву\n",
        "rows, cols = 5, 5\n",
        "\n",
        "# Створюємо масив 5x5 і заповнюємо його випадковими числами від -50 до 50\n",
        "matrix = np.random.randint(-50, 51, size=(rows, cols))\n",
        "\n",
        "# Виводимо масив на екран\n",
        "print(\"Масив 5x5, заповнений випадковими числами від -50 до 50:\")\n",
        "print(matrix)\n"
      ],
      "outputs": [
        {
          "output_type": "stream",
          "name": "stdout",
          "text": "Масив 5x5, заповнений випадковими числами від -50 до 50:\n[[ 32   1 -46   2  45]\n [ 41 -31  24  34   8]\n [-33  -7 -45 -42 -20]\n [-18  37  29 -13  31]\n [-18  22  -2  47 -38]]\n"
        }
      ],
      "execution_count": 4,
      "metadata": {
        "colab": {
          "base_uri": "https://localhost:8080/"
        },
        "id": "N2aw_AKGJyO4",
        "outputId": "282b4561-d814-485c-fb07-fa53363d3ea8"
      }
    },
    {
      "cell_type": "markdown",
      "source": [
        "Завдання 4.\n",
        "27. Створіть масив розміром 3x3, заповніть його випадковими дійсними числами в  діапазоні від -1.3 до 1.3 та виведіть його значення."
      ],
      "metadata": {
        "id": "yoWwsYQuKAYn"
      }
    },
    {
      "cell_type": "code",
      "source": [
        "import numpy as np\n",
        "\n",
        "# Визначаємо розмір масиву\n",
        "rows, cols = 3, 3\n",
        "\n",
        "# Створюємо масив 3x3 і заповнюємо його випадковими дійсними числами від -1.3 до 1.3\n",
        "matrix = np.random.uniform(-1.3, 1.3, size=(rows, cols))\n",
        "\n",
        "# Виводимо масив на екран\n",
        "print(\"Масив 3x3, заповнений випадковими дійсними числами від -1.3 до 1.3:\")\n",
        "print(matrix)\n"
      ],
      "outputs": [
        {
          "output_type": "stream",
          "name": "stdout",
          "text": "Масив 3x3, заповнений випадковими дійсними числами від -1.3 до 1.3:\n[[-0.97987257 -1.00852969 -0.85534209]\n [ 0.96361606 -0.56855776  0.1673624 ]\n [ 0.41699828 -1.08599189  0.46384948]]\n"
        }
      ],
      "execution_count": 5,
      "metadata": {
        "colab": {
          "base_uri": "https://localhost:8080/"
        },
        "id": "jYVslErlKNd4",
        "outputId": "5c6dbc05-e2d2-4738-f26a-0a5b720e6fe7"
      }
    },
    {
      "cell_type": "markdown",
      "source": [
        "Завдання 5.\n",
        "27. Створіть два одновимірних масиви розміром 7, заповніть їх випадковими цілими\n",
        "числами в діапазоні від 10 до 15 та виконайте на них поелементні операції додавання,\n",
        "віднімання та множення."
      ],
      "metadata": {
        "id": "1yuV4bU8KOWh"
      }
    },
    {
      "cell_type": "code",
      "source": [
        "import numpy as np\n",
        "\n",
        "# Визначаємо розмір масивів\n",
        "size = 7\n",
        "\n",
        "# Створюємо два масиви та заповнюємо їх випадковими цілими числами від 10 до 15\n",
        "array1 = np.random.randint(10, 16, size)\n",
        "array2 = np.random.randint(10, 16, size)\n",
        "\n",
        "# Виконуємо поелементні операції додавання, віднімання та множення\n",
        "addition = array1 + array2\n",
        "subtraction = array1 - array2\n",
        "multiplication = array1 * array2\n",
        "\n",
        "# Виводимо результати на екран\n",
        "print(\"Перший масив:\")\n",
        "print(array1)\n",
        "\n",
        "print(\"\\nДругий масив:\")\n",
        "print(array2)\n",
        "\n",
        "print(\"\\nРезультат додавання:\")\n",
        "print(addition)\n",
        "\n",
        "print(\"\\nРезультат віднімання:\")\n",
        "print(subtraction)\n",
        "\n",
        "print(\"\\nРезультат множення:\")\n",
        "print(multiplication)\n"
      ],
      "outputs": [
        {
          "output_type": "stream",
          "name": "stdout",
          "text": "Перший масив:\n[11 11 11 14 14 13 13]\n\nДругий масив:\n[13 13 13 10 11 14 11]\n\nРезультат додавання:\n[24 24 24 24 25 27 24]\n\nРезультат віднімання:\n[-2 -2 -2  4  3 -1  2]\n\nРезультат множення:\n[143 143 143 140 154 182 143]\n"
        }
      ],
      "execution_count": 6,
      "metadata": {
        "colab": {
          "base_uri": "https://localhost:8080/"
        },
        "id": "kbshwdSaKPdY",
        "outputId": "26345fb0-2306-4478-86b6-7f5e37840549"
      }
    },
    {
      "cell_type": "markdown",
      "source": [
        "Завдання 6.\n",
        "27. Створіть дві матриці 4x4, заповніть їх довільними цілими числами від 1 до 10 та\n",
        "знайдіть їх добуток."
      ],
      "metadata": {
        "id": "er85jXsELKBF"
      }
    },
    {
      "cell_type": "code",
      "source": [
        "import numpy as np\n",
        "\n",
        "# Визначаємо розмір матриць\n",
        "rows, cols = 4, 4\n",
        "\n",
        "# Створюємо дві матриці 4x4 та заповнюємо їх випадковими цілими числами від 1 до 10\n",
        "matrix1 = np.random.randint(1, 11, size=(rows, cols))\n",
        "matrix2 = np.random.randint(1, 11, size=(rows, cols))\n",
        "\n",
        "# Обчислюємо добуток двох матриць\n",
        "product_matrix = np.dot(matrix1, matrix2)\n",
        "\n",
        "# Виводимо матриці та їхній добуток на екран\n",
        "print(\"Перша матриця:\")\n",
        "print(matrix1)\n",
        "\n",
        "print(\"\\nДруга матриця:\")\n",
        "print(matrix2)\n",
        "\n",
        "print(\"\\nДобуток матриць:\")\n",
        "print(product_matrix)\n"
      ],
      "outputs": [
        {
          "output_type": "stream",
          "name": "stdout",
          "text": "Перша матриця:\n[[ 4  1  1  4]\n [ 8  2  1  2]\n [ 5  7  4  4]\n [10  5  5 10]]\n\nДруга матриця:\n[[ 3  8  5  1]\n [10  8  1  2]\n [ 4  3  8  8]\n [ 9  5  9  6]]\n\nДобуток матриць:\n[[ 62  63  65  38]\n [ 66  93  68  32]\n [137 128 100  75]\n [190 185 185 120]]\n"
        }
      ],
      "execution_count": 7,
      "metadata": {
        "colab": {
          "base_uri": "https://localhost:8080/"
        },
        "id": "W8Wg0bGcLKyT",
        "outputId": "9aa8f828-a8a2-42f4-d51c-9e31fccb0d25"
      }
    },
    {
      "cell_type": "markdown",
      "source": [
        "Завдання 7.\n",
        "27. Створіть дві матриці розміром 2x3 та 3x2, заповніть їх випадковими цілими числами\n",
        "в діапазоні від 1 до 7 та перемножте їх між собою."
      ],
      "metadata": {
        "id": "Kue5WQ0_LLQh"
      }
    },
    {
      "cell_type": "code",
      "source": [
        "import numpy as np\n",
        "\n",
        "# Визначаємо розміри матриць\n",
        "rows1, cols1 = 2, 3\n",
        "rows2, cols2 = 3, 2\n",
        "\n",
        "# Створюємо матриці з випадковими цілими числами від 1 до 7\n",
        "matrix1 = np.random.randint(1, 8, size=(rows1, cols1))\n",
        "matrix2 = np.random.randint(1, 8, size=(rows2, cols2))\n",
        "\n",
        "# Обчислюємо добуток матриць\n",
        "product_matrix = np.dot(matrix1, matrix2)\n",
        "\n",
        "# Виводимо матриці та їхній добуток на екран\n",
        "print(\"Перша матриця (2x3):\")\n",
        "print(matrix1)\n",
        "\n",
        "print(\"\\nДруга матриця (3x2):\")\n",
        "print(matrix2)\n",
        "\n",
        "print(\"\\nДобуток матриць (2x2):\")\n",
        "print(product_matrix)\n"
      ],
      "outputs": [
        {
          "output_type": "stream",
          "name": "stdout",
          "text": "Перша матриця (2x3):\n[[3 2 2]\n [4 1 6]]\n\nДруга матриця (3x2):\n[[3 5]\n [3 2]\n [3 6]]\n\nДобуток матриць (2x2):\n[[21 31]\n [33 58]]\n"
        }
      ],
      "execution_count": 8,
      "metadata": {
        "colab": {
          "base_uri": "https://localhost:8080/"
        },
        "id": "A30z7R8qLLsD",
        "outputId": "b31c7acf-4add-4021-ac36-56b8ef828ca8"
      }
    },
    {
      "cell_type": "markdown",
      "source": [
        "Завдання 8.\n",
        "27. Створіть матрицю розміром 2x2, заповніть її випадковими цілими числами в діапазоні\n",
        "від 1 до 8 та знайдіть її обернену матрицю."
      ],
      "metadata": {
        "id": "MwPOP0HLLN4x"
      }
    },
    {
      "cell_type": "code",
      "source": [
        "import numpy as np\n",
        "\n",
        "# Визначаємо розмір матриці\n",
        "size = 2\n",
        "\n",
        "# Створюємо матрицю 2x2 з випадковими цілими числами від 1 до 8\n",
        "matrix = np.random.randint(1, 9, size=(size, size))\n",
        "\n",
        "# Функція для обчислення оберненої матриці\n",
        "def inverse_matrix(mat):\n",
        "    try:\n",
        "        inv_mat = np.linalg.inv(mat)\n",
        "        return inv_mat\n",
        "    except np.linalg.LinAlgError:\n",
        "        return \"Матриця не є оберненою (сингулярна або нестабільна).\"\n",
        "\n",
        "# Обчислюємо обернену матрицю\n",
        "inverse_mat = inverse_matrix(matrix)\n",
        "\n",
        "# Виводимо матрицю та її обернену матрицю на екран\n",
        "print(\"Матриця 2x2:\")\n",
        "print(matrix)\n",
        "\n",
        "print(\"\\nОбернена матриця 2x2:\")\n",
        "print(inverse_mat)\n"
      ],
      "outputs": [
        {
          "output_type": "stream",
          "name": "stdout",
          "text": "Матриця 2x2:\n[[3 5]\n [6 5]]\n\nОбернена матриця 2x2:\n[[-0.33333333  0.33333333]\n [ 0.4        -0.2       ]]\n"
        }
      ],
      "execution_count": 9,
      "metadata": {
        "colab": {
          "base_uri": "https://localhost:8080/"
        },
        "id": "NBu_vRl3LOXN",
        "outputId": "a68b67ba-5aaa-4d5a-8eca-960f366bc0c9"
      }
    },
    {
      "cell_type": "markdown",
      "source": [
        "Завдання 9.\n",
        "27. Створіть матрицю розміром 3x3, заповніть її випадковими дійсними числами в  діапазоні від 0 до 1 та транспонуйте її."
      ],
      "metadata": {
        "id": "17-fJAjALO63"
      }
    },
    {
      "cell_type": "code",
      "source": [
        "import numpy as np\n",
        "\n",
        "# Визначаємо розмір матриці\n",
        "rows, cols = 3, 3\n",
        "\n",
        "# Створюємо матрицю 3x3 з випадковими дійсними числами від 0 до 1\n",
        "matrix = np.random.uniform(0, 1, size=(rows, cols))\n",
        "\n",
        "# Транспонуємо матрицю\n",
        "transposed_matrix = np.transpose(matrix)\n",
        "\n",
        "# Виводимо матрицю та її транспоновану версію на екран\n",
        "print(\"Матриця 3x3:\")\n",
        "print(matrix)\n",
        "\n",
        "print(\"\\nТранспонована матриця 3x3:\")\n",
        "print(transposed_matrix)\n"
      ],
      "outputs": [
        {
          "output_type": "stream",
          "name": "stdout",
          "text": "Матриця 3x3:\n[[0.25234864 0.96382436 0.86398316]\n [0.33819431 0.34443512 0.83630838]\n [0.34404712 0.81300991 0.84992129]]\n\nТранспонована матриця 3x3:\n[[0.25234864 0.33819431 0.34404712]\n [0.96382436 0.34443512 0.81300991]\n [0.86398316 0.83630838 0.84992129]]\n"
        }
      ],
      "execution_count": 10,
      "metadata": {
        "colab": {
          "base_uri": "https://localhost:8080/"
        },
        "id": "k1Z5NuPcLPUf",
        "outputId": "9dd36a76-9687-40cd-e483-8b121eff971b"
      }
    },
    {
      "cell_type": "markdown",
      "source": [
        "Завдання 10.\n",
        "27. Створіть матрицю розміром 3x4 та вектор розміром 4x1, заповніть матрицю\n",
        "випадковими цілими числами в діапазоні від 1 до 10, а вектор - випадковими цілими\n",
        "числами в діапазоні від 1 до 10, і знайдіть добуток матриці на вектор.\n"
      ],
      "metadata": {
        "id": "rYbpQIs9LP21"
      }
    },
    {
      "cell_type": "code",
      "source": [
        "import numpy as np\n",
        "\n",
        "# Визначаємо розміри матриці та вектора\n",
        "rows_matrix, cols_matrix = 3, 4\n",
        "rows_vector, cols_vector = 4, 1\n",
        "\n",
        "# Створюємо матрицю 3x4 з випадковими цілими числами від 1 до 10\n",
        "matrix = np.random.randint(1, 11, size=(rows_matrix, cols_matrix))\n",
        "\n",
        "# Створюємо вектор 4x1 з випадковими цілими числами від 1 до 10\n",
        "vector = np.random.randint(1, 11, size=(rows_vector, cols_vector))\n",
        "\n",
        "# Обчислюємо добуток матриці на вектор\n",
        "product = np.dot(matrix, vector)\n",
        "\n",
        "# Виводимо матрицю, вектор та їхній добуток на екран\n",
        "print(\"Матриця 3x4:\")\n",
        "print(matrix)\n",
        "\n",
        "print(\"\\nВектор 4x1:\")\n",
        "print(vector)\n",
        "\n",
        "print(\"\\nДобуток матриці на вектор:\")\n",
        "print(product)\n"
      ],
      "outputs": [
        {
          "output_type": "stream",
          "name": "stdout",
          "text": "Матриця 3x4:\n[[ 4  5  3  7]\n [ 4  7  3  9]\n [ 1  5 10  3]]\n\nВектор 4x1:\n[[4]\n [4]\n [3]\n [6]]\n\nДобуток матриці на вектор:\n[[ 87]\n [107]\n [ 72]]\n"
        }
      ],
      "execution_count": 11,
      "metadata": {
        "colab": {
          "base_uri": "https://localhost:8080/"
        },
        "id": "h_6QwZf4LQUo",
        "outputId": "86ebb3d7-3b86-4de9-8a6d-b33bf1397c25"
      }
    },
    {
      "cell_type": "markdown",
      "source": [
        "Завдання 11.\n",
        "27. Створіть матрицю розміром 2x3 та вектор розміром 3x1, заповніть матрицю\n",
        "випадковими дійсними числами від 0 до 1, а вектор - випадковими дійсними числами\n",
        "від 0 до 1, і знайдіть добуток матриці на вектор.\n"
      ],
      "metadata": {
        "id": "N_tXdm76LR4U"
      }
    },
    {
      "cell_type": "code",
      "source": [
        "import numpy as np\n",
        "\n",
        "# Визначаємо розміри матриці та вектора\n",
        "rows_matrix, cols_matrix = 2, 3\n",
        "rows_vector, cols_vector = 3, 1\n",
        "\n",
        "# Створюємо матрицю 2x3 з випадковими дійсними числами від 0 до 1\n",
        "matrix = np.random.uniform(0, 1, size=(rows_matrix, cols_matrix))\n",
        "\n",
        "# Створюємо вектор 3x1 з випадковими дійсними числами від 0 до 1\n",
        "vector = np.random.uniform(0, 1, size=(rows_vector, cols_vector))\n",
        "\n",
        "# Обчислюємо добуток матриці на вектор\n",
        "product = np.dot(matrix, vector)\n",
        "\n",
        "# Виводимо матрицю, вектор та їхній добуток на екран\n",
        "print(\"Матриця 2x3:\")\n",
        "print(matrix)\n",
        "\n",
        "print(\"\\nВектор 3x1:\")\n",
        "print(vector)\n",
        "\n",
        "print(\"\\nДобуток матриці на вектор:\")\n",
        "print(product)\n"
      ],
      "outputs": [
        {
          "output_type": "stream",
          "name": "stdout",
          "text": "Матриця 2x3:\n[[0.4475546  0.8538758  0.66272944]\n [0.48021142 0.28592194 0.45753233]]\n\nВектор 3x1:\n[[0.82672386]\n [0.57581104]\n [0.85813907]]\n\nДобуток матриці на вектор:\n[[1.43038921]\n [0.95426562]]\n"
        }
      ],
      "execution_count": 12,
      "metadata": {
        "colab": {
          "base_uri": "https://localhost:8080/"
        },
        "id": "pHdY9uF7LSSX",
        "outputId": "ca68a76f-b96e-4550-8dd2-69d062d13bfe"
      }
    },
    {
      "cell_type": "markdown",
      "source": [
        "Завдання 12.\n",
        "27. Створіть дві матриці розміром 3x3, заповніть їх випадковими цілими числами в  діапазоні від -1 до 5 та знайдіть різницю всіх елементів першої матриці."
      ],
      "metadata": {
        "id": "NDOHgHgULStB"
      }
    },
    {
      "cell_type": "code",
      "source": [
        "import numpy as np\n",
        "\n",
        "# Визначаємо розмір матриць\n",
        "rows, cols = 3, 3\n",
        "\n",
        "# Створюємо дві матриці 3x3 з випадковими цілими числами від -1 до 5\n",
        "matrix1 = np.random.randint(-1, 6, size=(rows, cols))\n",
        "matrix2 = np.random.randint(-1, 6, size=(rows, cols))\n",
        "\n",
        "# Знаходимо різницю всіх елементів першої матриці\n",
        "difference_matrix1 = np.sum(matrix1) - np.min(matrix1)\n",
        "\n",
        "# Виводимо матриці та різницю всіх елементів першої матриці на екран\n",
        "print(\"Перша матриця 3x3:\")\n",
        "print(matrix1)\n",
        "\n",
        "print(\"\\nДруга матриця 3x3:\")\n",
        "print(matrix2)\n",
        "\n",
        "print(\"\\nРізниця всіх елементів першої матриці:\")\n",
        "print(difference_matrix1)\n"
      ],
      "outputs": [
        {
          "output_type": "stream",
          "name": "stdout",
          "text": "Перша матриця 3x3:\n[[ 5 -1  5]\n [ 1  4  2]\n [ 1  0  0]]\n\nДруга матриця 3x3:\n[[ 5  3  1]\n [ 1  2  0]\n [ 5  2 -1]]\n\nРізниця всіх елементів першої матриці:\n18\n"
        }
      ],
      "execution_count": 13,
      "metadata": {
        "colab": {
          "base_uri": "https://localhost:8080/"
        },
        "id": "OvpNWELDLTL8",
        "outputId": "ea245ef6-a950-47c8-df92-c1b4330d896f"
      }
    },
    {
      "cell_type": "markdown",
      "source": [
        "Завдання 13.\n",
        "27. Створіть дві матриці розміром 2x2, заповніть їх випадковими дійсними числами в\n",
        "діапазоні від -1 до 1 та знайдіть суму їх елементів."
      ],
      "metadata": {
        "id": "1h03cryHLTfL"
      }
    },
    {
      "cell_type": "code",
      "source": [
        "import numpy as np\n",
        "\n",
        "# Створення двох матриць 2x2 з випадковими дійсними числами від -1 до 1\n",
        "matrix1 = np.random.uniform(-1, 1, (2, 2))\n",
        "matrix2 = np.random.uniform(-1, 1, (2, 2))\n",
        "\n",
        "# Обчислення суми елементів кожної матриці\n",
        "sum_matrix1 = np.sum(matrix1)\n",
        "sum_matrix2 = np.sum(matrix2)\n",
        "\n",
        "# Виведення результатів\n",
        "print(\"Перша матриця:\\n\", matrix1)\n",
        "print(\"Сума елементів першої матриці:\", sum_matrix1)\n",
        "\n",
        "print(\"\\nДруга матриця:\\n\", matrix2)\n",
        "print(\"Сума елементів другої матриці:\", sum_matrix2)\n",
        "print(total_sum)\n"
      ],
      "outputs": [
        {
          "output_type": "stream",
          "name": "stdout",
          "text": "Перша матриця:\n [[ 0.28996201  0.11386531]\n [-0.38262215 -0.96692931]]\nСума елементів першої матриці: -0.9457241383132893\n\nДруга матриця:\n [[ 0.1345773  -0.19373184]\n [-0.46082738  0.84112513]]\nСума елементів другої матриці: 0.3211432055086725\n2.001307498563887\n"
        }
      ],
      "execution_count": 15,
      "metadata": {
        "colab": {
          "base_uri": "https://localhost:8080/"
        },
        "id": "9eZIrDkSLT_f",
        "outputId": "35779d9b-6048-4f41-9ead-b2e596bb2584"
      }
    },
    {
      "cell_type": "markdown",
      "source": [
        "Завдання 14.\n",
        "27. Створіть матрицю розміром 3x3, заповніть її випадковими дійсними числами в\n",
        "діапазоні від -10 до 10 та знайдіть середнє значення елементів на головній діагоналі."
      ],
      "metadata": {
        "id": "uy0Za9tDLbXa"
      }
    },
    {
      "cell_type": "code",
      "source": [
        "import numpy as np\n",
        "\n",
        "# Створення матриці 3x3 з випадковими дійсними числами від -10 до 10\n",
        "matrix = np.random.uniform(-10, 10, (3, 3))\n",
        "\n",
        "# Обчислення середнього значення елементів на головній діагоналі\n",
        "diagonal_elements = np.diag(matrix)\n",
        "mean_diagonal = np.mean(diagonal_elements)\n",
        "\n",
        "# Виведення результатів\n",
        "print(\"Матриця 3x3:\\n\", matrix)\n",
        "print(\"Елементи на головній діагоналі:\", diagonal_elements)\n",
        "print(\"Середнє значення елементів на головній діагоналі:\", mean_diagonal)\n"
      ],
      "outputs": [
        {
          "output_type": "stream",
          "name": "stdout",
          "text": "Матриця 3x3:\n [[ 8.53435232  7.04690975 -5.13023439]\n [-0.30082626 -6.58663106  2.17114493]\n [ 6.28880008 -9.2409484  -6.42147955]]\nЕлементи на головній діагоналі: [ 8.53435232 -6.58663106 -6.42147955]\nСереднє значення елементів на головній діагоналі: -1.4912527663793371\n"
        }
      ],
      "execution_count": 16,
      "metadata": {
        "colab": {
          "base_uri": "https://localhost:8080/"
        },
        "id": "tiIVzFXuLcGJ",
        "outputId": "95e1cc46-c2c5-45a8-d162-c423a961097a"
      }
    },
    {
      "cell_type": "markdown",
      "source": [
        "Завдання 15.\n",
        "27. Створіть матрицю розміром 4x4, заповніть її випадковими дійсними числами в\n",
        "діапазоні від -0.5 до 0.5 та знайдіть вектор-стовпчик, що містить найбільше за модулем\n",
        "значення елементу у кожному стовпці матриці."
      ],
      "metadata": {
        "id": "VWlKrKBTLQpZ"
      }
    },
    {
      "cell_type": "code",
      "source": [
        "import numpy as np\n",
        "\n",
        "# Створення матриці 4x4 з випадковими дійсними числами від -0.5 до 0.5\n",
        "matrix = np.random.uniform(-0.5, 0.5, (4, 4))\n",
        "\n",
        "# Знаходження найбільших за модулем значень у кожному стовпці\n",
        "max_abs_values = np.max(np.abs(matrix), axis=0)\n",
        "\n",
        "# Виведення результатів\n",
        "print(\"Матриця 4x4:\\n\", matrix)\n",
        "print(\"\\nВектор-стовпчик з найбільшими за модулем значеннями у кожному стовпці:\\n\", max_abs_values)\n"
      ],
      "outputs": [
        {
          "output_type": "stream",
          "name": "stdout",
          "text": "Матриця 4x4:\n [[ 0.48731088  0.20368863  0.05498761  0.37631825]\n [ 0.27989057  0.11651896 -0.31618008  0.11467565]\n [ 0.04015127  0.42355663  0.14979118 -0.35452456]\n [-0.44083075  0.25333077  0.13800518 -0.27488679]]\n\nВектор-стовпчик з найбільшими за модулем значеннями у кожному стовпці:\n [0.48731088 0.42355663 0.31618008 0.37631825]\n"
        }
      ],
      "execution_count": 17,
      "metadata": {
        "colab": {
          "base_uri": "https://localhost:8080/"
        },
        "id": "h6HAFmNTLREj",
        "outputId": "a17d7e16-e4ec-4c5c-adc9-1aabe7d136e9"
      }
    },
    {
      "cell_type": "markdown",
      "source": [
        "Висновок: Висновок: Засвоїли використання ColabGoogle. Ми навчилися створювати матриці різних розмірів та заповнювати їх випадковими значеннями у заданих діапазонах.Знаходження суми всіх елементів матриць. Визначення суми елементів на основній та побічній діагоналях матриці. Матричні операції: Виконання матричних операцій, таких як добуток матриці на вектор."
      ],
      "metadata": {
        "id": "gJ8O8ABaUEqb"
      }
    }
  ],
  "metadata": {
    "colab": {
      "provenance": []
    },
    "kernelspec": {
      "name": "python3",
      "display_name": "Python 3"
    },
    "language_info": {
      "name": "python"
    },
    "nteract": {
      "version": "nteract-front-end@1.0.0"
    }
  },
  "nbformat": 4,
  "nbformat_minor": 0
}